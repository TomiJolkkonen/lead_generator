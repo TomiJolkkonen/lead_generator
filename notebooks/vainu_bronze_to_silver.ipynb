{
 "cells": [
  {
   "cell_type": "markdown",
   "id": "79719021-8145-4f1e-aa94-23268147357a",
   "metadata": {
    "microsoft": {
     "language": "python",
     "language_group": "synapse_pyspark"
    },
    "nteract": {
     "transient": {
      "deleting": false
     }
    }
   },
   "source": [
    "Imports"
   ]
  },
  {
   "cell_type": "code",
   "execution_count": 2,
   "id": "daf15a9b-dcba-4a36-a5f7-f6dc5c38cbcb",
   "metadata": {
    "microsoft": {
     "language": "python",
     "language_group": "synapse_pyspark"
    }
   },
   "outputs": [
    {
     "data": {
      "application/vnd.livy.statement-meta+json": {
       "execution_finish_time": "2025-03-25T10:58:01.8102401Z",
       "execution_start_time": "2025-03-25T10:58:00.8933496Z",
       "livy_statement_state": "available",
       "normalized_state": "finished",
       "parent_msg_id": "e71c545f-b6ef-48f9-a9b8-91824bf184a7",
       "queued_time": "2025-03-25T10:54:48.5190572Z",
       "session_id": "4cdf2036-d8ba-44f4-be50-946360510d86",
       "session_start_time": "2025-03-25T10:54:48.520306Z",
       "spark_pool": null,
       "state": "finished",
       "statement_id": 3,
       "statement_ids": [
        3
       ]
      },
      "text/plain": [
       "StatementMeta(, 4cdf2036-d8ba-44f4-be50-946360510d86, 3, Finished, Available, Finished)"
      ]
     },
     "metadata": {},
     "output_type": "display_data"
    }
   ],
   "source": [
    "import json\n",
    "from pyspark.sql import SparkSession\n",
    "from pyspark.sql.types import StructType, StructField, StringType, ArrayType, MapType, FloatType, IntegerType, DateType, BooleanType\n",
    "from pyspark.sql.functions import col, explode, when, abs, regexp_replace, struct, concat, lit"
   ]
  },
  {
   "cell_type": "markdown",
   "id": "2730afa4-98db-4415-8cb7-b6b76d3ce524",
   "metadata": {
    "microsoft": {
     "language": "python",
     "language_group": "synapse_pyspark"
    },
    "nteract": {
     "transient": {
      "deleting": false
     }
    }
   },
   "source": [
    "Retrieve bronze data (vainu_data.json and vainu_data_financial.json) from the lakehouse"
   ]
  },
  {
   "cell_type": "code",
   "execution_count": null,
   "id": "47fe856a-8d5a-4571-a550-c90198d0975d",
   "metadata": {
    "microsoft": {
     "language": "python",
     "language_group": "synapse_pyspark"
    }
   },
   "outputs": [
    {
     "data": {
      "application/vnd.livy.statement-meta+json": {
       "execution_finish_time": "2025-03-25T10:58:18.502259Z",
       "execution_start_time": "2025-03-25T10:58:01.8126933Z",
       "livy_statement_state": "available",
       "normalized_state": "finished",
       "parent_msg_id": "bc545341-1396-4c58-870e-a56a4333d263",
       "queued_time": "2025-03-25T10:54:48.6149474Z",
       "session_id": "4cdf2036-d8ba-44f4-be50-946360510d86",
       "session_start_time": null,
       "spark_pool": null,
       "state": "finished",
       "statement_id": 4,
       "statement_ids": [
        4
       ]
      },
      "text/plain": [
       "StatementMeta(, 4cdf2036-d8ba-44f4-be50-946360510d86, 4, Finished, Available, Finished)"
      ]
     },
     "metadata": {},
     "output_type": "display_data"
    }
   ],
   "source": [
    "lakehouse_path_general = \"your_lakehouse_path_here\"  # Replace with your actual lakehouse path\n",
    "lakehouse_path_fina = \"your_lakehouse_path_here\"  # Replace with your actual lakehouse path\n",
    "\n",
    "df_raw_general = spark.read.text(lakehouse_path_general)\n",
    "df_raw_fina = spark.read.text(lakehouse_path_fina)\n",
    "\n",
    "\n",
    "# Convert DataFrame to JSON string\n",
    "raw_json_general_str = \"\\n\".join(df_raw_general.toPandas()[\"value\"])\n",
    "raw_json_fina_str = \"\\n\".join(df_raw_fina.toPandas()[\"value\"])\n",
    "\n",
    "# Convert JSON string to Python dictionary\n",
    "data_general = json.loads(raw_json_general_str)\n",
    "data_fina = json.loads(raw_json_fina_str)"
   ]
  },
  {
   "cell_type": "markdown",
   "id": "2611d853-e6fa-4984-80ed-50bb8d9c9f98",
   "metadata": {
    "microsoft": {
     "language": "python",
     "language_group": "synapse_pyspark"
    },
    "nteract": {
     "transient": {
      "deleting": false
     }
    }
   },
   "source": [
    "Form the general dataframe"
   ]
  },
  {
   "cell_type": "code",
   "execution_count": 4,
   "id": "f46f5c0f-1bad-4ae4-82df-070763f19cbf",
   "metadata": {
    "microsoft": {
     "language": "python",
     "language_group": "synapse_pyspark"
    }
   },
   "outputs": [
    {
     "data": {
      "application/vnd.livy.statement-meta+json": {
       "execution_finish_time": "2025-03-25T10:58:50.6683844Z",
       "execution_start_time": "2025-03-25T10:58:18.5049485Z",
       "livy_statement_state": "available",
       "normalized_state": "finished",
       "parent_msg_id": "51b5dba7-dd3d-4148-ab1f-31f155071302",
       "queued_time": "2025-03-25T10:54:48.659718Z",
       "session_id": "4cdf2036-d8ba-44f4-be50-946360510d86",
       "session_start_time": null,
       "spark_pool": null,
       "state": "finished",
       "statement_id": 5,
       "statement_ids": [
        5
       ]
      },
      "text/plain": [
       "StatementMeta(, 4cdf2036-d8ba-44f4-be50-946360510d86, 5, Finished, Available, Finished)"
      ]
     },
     "metadata": {},
     "output_type": "display_data"
    },
    {
     "name": "stdout",
     "output_type": "stream",
     "text": [
      "+------------+-----+-----+\n",
      "|  size_class|lower|upper|\n",
      "+------------+-----+-----+\n",
      "|     [large]|  201| 1000|\n",
      "|     [small]|   11|   50|\n",
      "|     [micro]|    1|   10|\n",
      "|    [medium]|   51|  200|\n",
      "|[enterprise]| 1000| NULL|\n",
      "+------------+-----+-----+\n",
      "\n",
      "root\n",
      " |-- business_id: string (nullable = true)\n",
      " |-- company_name: string (nullable = true)\n",
      " |-- foundation_date: date (nullable = true)\n",
      " |-- description: string (nullable = true)\n",
      " |-- staff_number: integer (nullable = true)\n",
      " |-- career_page_job_count: integer (nullable = true)\n",
      " |-- city: string (nullable = true)\n",
      " |-- coordinates: string (nullable = true)\n",
      " |-- company_size: string (nullable = true)\n",
      "\n",
      "+-----------+------------------+---------------+--------------------+------------+---------------------+--------+--------------------+------------+\n",
      "|business_id|      company_name|foundation_date|         description|staff_number|career_page_job_count|    city|         coordinates|company_size|\n",
      "+-----------+------------------+---------------+--------------------+------------+---------------------+--------+--------------------+------------+\n",
      "|   27323889|    Renta Group Oy|     2015-12-21|Renta Group Oy on...|          11|                 NULL|  VANTAA|(60.29459, 24.96753)|       small|\n",
      "|   24465240| Sofigate Group Oy|     2011-12-09|There is no busin...|        NULL|                    1|HELSINKI|(60.16345, 24.91317)|       large|\n",
      "|   01540885|    Insta Group Oy|     1970-07-03|Insta creates and...|           1|                 NULL| TAMPERE|(61.49844, 23.77182)|      medium|\n",
      "|   10410900|   UPM-Kymmene Oyj|     1996-04-30|We deliver renewa...|        2815|                    3|HELSINKI|(60.17116, 24.93265)|  enterprise|\n",
      "|   06005179|Metroauto Group Oy|     1985-07-18|MetroAuto on vuon...|           0|                 NULL|HELSINKI|(60.21084, 25.08774)|       small|\n",
      "|   09488655|     Yara Suomi Oy|     1993-10-13|Yara grows knowle...|         437|                 NULL|   ESPOO|(60.21725, 24.81488)|  enterprise|\n",
      "|   07909057|         SOLEMO Oy|     1990-04-04|SOL is a Finnish ...|          26|                 NULL|HELSINKI|(60.19196, 24.97794)|       large|\n",
      "|   23365096|      Supercell Oy|     2010-07-16|Supercell is a mo...|         534|                    6|HELSINKI|(60.16285, 24.91642)|  enterprise|\n",
      "|   09210645| Salomaa Yhtiöt Oy|     1993-02-24|Dagmar is an insi...|        NULL|                 NULL|HELSINKI| (60.1675, 24.93544)|      medium|\n",
      "|   17101289|        Gofore Oyj|     2001-06-25|We create tomorro...|         852|                 NULL| TAMPERE|(61.50365, 23.77502)|       large|\n",
      "|   10390508|    Stora Enso Oyj|     1996-05-01|Part of the globa...|        4066|                    2|HELSINKI|(60.17116, 24.93265)|  enterprise|\n",
      "|   10035215|     VR-Yhtymä Oyj|     1995-03-01|VR Group on vastu...|        3298|                 NULL|HELSINKI|(60.17116, 24.93265)|  enterprise|\n",
      "|   09771354|       Ramirent Oy|     1994-08-31|Ramirent is a lea...|          16|                    3|HELSINKI|(60.17116, 24.93265)|       large|\n",
      "|   24472299|  Reaktor Group Oy|     2011-12-15|Strategy, design,...|        NULL|                   75|HELSINKI|(60.16972, 24.94883)|       large|\n",
      "|   05300029|  Kiilto Family Oy|     1983-02-17|Kiilto is a famil...|        NULL|                 NULL| TAMPERE|(61.49844, 23.77182)|      medium|\n",
      "|   22036055|        Consti Oyj|     2008-07-09|Consti on yksi Su...|          14|                 NULL|HELSINKI|(60.22012, 24.87671)|      medium|\n",
      "|   01242394|       Schenker Oy|     1961-03-30|DB Schenker is on...|        1317|                    1|  VANTAA|(60.28937, 25.02956)|  enterprise|\n",
      "|   01139012|Siemens Osakeyhtiö|     1919-08-13|Siemens is a tech...|         422|                    1|   ESPOO|(60.20678, 24.65578)|  enterprise|\n",
      "|   24305802|   Bayer Nordic SE|     2011-09-29|Bayer is a global...|          64|                 NULL|   ESPOO|(60.20678, 24.65578)|  enterprise|\n",
      "|   17127921|      Lindström Oy|     2001-12-31|Lindström Group\\n...|        1224|                 NULL|HELSINKI|(60.17116, 24.93265)|  enterprise|\n",
      "+-----------+------------------+---------------+--------------------+------------+---------------------+--------+--------------------+------------+\n",
      "only showing top 20 rows\n",
      "\n"
     ]
    }
   ],
   "source": [
    "# Get relevant columns for general dataset\n",
    "\n",
    "general_data = [{\"company_name\": c.get(\"company_name\", \"\"),\n",
    "                 \"business_id\": c.get(\"business_id\", \"\"),\n",
    "                 \"foundation_date\": c.get(\"foundation_date\",\"\"),\n",
    "                 \"description\": c.get(\"description\",\"\"),\n",
    "                 \"staff_number\": c.get(\"staff_number\",\"\"),\n",
    "                 \"staff_number_estimate\": c.get(\"staff_number_estimate\",\"\"),\n",
    "                 \"career_page_job_count\": c.get(\"career_page_job_count\",\"\"),\n",
    "                 \"city\": c.get(\"city\", \"\"),\n",
    "                 \"lat\": c.get(\"lat\", \"\"),\n",
    "                 \"lng\": c.get(\"lng\", \"\"),\n",
    "                 \"status\": c.get(\"status\", \"\"),\n",
    "                 \"lng\": c.get(\"lng\", \"\"),\n",
    "                 \"organization_size_indicators\": c.get(\"organization_size_indicators\",\"\")} for c in data_general]\n",
    "\n",
    "# Manually define schema\n",
    "\n",
    "schema_general = StructType([\n",
    "    StructField(\"company_name\", StringType(), True),\n",
    "    StructField(\"business_id\", StringType(), True),\n",
    "    StructField(\"foundation_date\", StringType(), True),\n",
    "    StructField(\"description\", StringType(), True),\n",
    "    StructField(\"staff_number\", StringType(), True),\n",
    "    StructField(\"staff_number_estimate\", StringType(), True),\n",
    "    StructField(\"career_page_job_count\", StringType(), True),\n",
    "    StructField(\"city\", StringType(), True),\n",
    "    StructField(\"lat\", StringType(), True),\n",
    "    StructField(\"lng\", StringType(), True),\n",
    "    StructField(\"status\", StringType(), True),\n",
    "    StructField(\n",
    "        \"organization_size_indicators\",\n",
    "        ArrayType(StructType([\n",
    "            StructField(\"indicator_type\", StringType(), True),\n",
    "            StructField(\"size_classes\", StringType(), True),\n",
    "            StructField(\"value_range\", StructType([\n",
    "                StructField(\"lower_limit\", StringType(), True),\n",
    "                StructField(\"upper_limit\", StringType(), True)\n",
    "            ]), True)\n",
    "        ])),\n",
    "        True\n",
    "    )\n",
    "])\n",
    "\n",
    "\n",
    "# Create dataframe\n",
    "df_general = spark.createDataFrame(general_data, schema=schema_general)\n",
    "\n",
    "# Explode JSON structured column\n",
    "df_general = (\n",
    "        df_general\n",
    "        .withColumn(\"size\", explode(col(\"organization_size_indicators\")))\n",
    "        )\n",
    "\n",
    "# Making a separate dataframe to investigate limits for sizew classes\n",
    "df_org = df_general.select(\n",
    "    col(\"size.indicator_type\").alias(\"size_indicator\"),\n",
    "    col(\"size.size_classes\").alias(\"size_class\"),\n",
    "    col(\"size.value_range.lower_limit\").alias(\"lower\"),\n",
    "    col(\"size.value_range.upper_limit\").alias(\"upper\")\n",
    ")\n",
    "\n",
    "# df_org.printSchema()\n",
    "\n",
    "# Making a SQL query to define size classes\n",
    "df_org.createOrReplaceTempView(\"companies\")\n",
    "sql = spark.sql(\n",
    "    \"\"\"SELECT DISTINCT size_class,\n",
    "    lower,\n",
    "    upper\n",
    "    FROM companies\n",
    "    WHERE size_indicator = \"company_size_indicator_model\"\n",
    "    \"\"\"\n",
    "    )\n",
    "\n",
    "sql.show()\n",
    "\n",
    "\n",
    "# Selecting only relevant columns for the general dataframe\n",
    "df_general = df_general.select(\n",
    "    col(\"business_id\"),\n",
    "    col(\"company_name\"),\n",
    "    col(\"foundation_date\"),\n",
    "    col(\"description\"),\n",
    "    col(\"staff_number\"),\n",
    "    col(\"staff_number_estimate\"),\n",
    "    col(\"career_page_job_count\"),\n",
    "    col(\"city\"),\n",
    "    col(\"lat\"),\n",
    "    col(\"lng\"),\n",
    "    col(\"size.indicator_type\").alias(\"size_indicator\"),\n",
    "    col(\"size.size_classes\").alias(\"size_class\")\n",
    ")\n",
    "\n",
    "\n",
    "# Filtering the dataframe to only include the company size indicator model based on employee count\n",
    "df_general = df_general.filter(col(\"size_indicator\") == \"company_size_indicator_model\")\n",
    "\n",
    "\n",
    "# New select with changes\n",
    "df_general = df_general.select(\n",
    "    col(\"business_id\"),\n",
    "    col(\"company_name\"),\n",
    "    col(\"foundation_date\"),\n",
    "    col(\"description\"),\n",
    "    col(\"staff_number\"),\n",
    "    col(\"staff_number_estimate\"),\n",
    "    col(\"career_page_job_count\"),\n",
    "    col(\"city\"),\n",
    "    col(\"lat\"),\n",
    "    col(\"lng\"),\n",
    "    col(\"size_class\").alias(\"company_size\")\n",
    ")\n",
    "\n",
    "\n",
    "# Make a new column based on staff number information\n",
    "df_general = df_general.withColumn(\n",
    "    \"staff_number_final\",\n",
    "    when(col(\"staff_number\").isNotNull(), col(\"staff_number\"))\n",
    "    .otherwise(col(\"staff_number_estimate\"))\n",
    ")\n",
    "\n",
    "# Select only staff number\n",
    "df_general = df_general.select(\n",
    "    col(\"business_id\"),\n",
    "    col(\"company_name\"),\n",
    "    col(\"foundation_date\"),\n",
    "    col(\"description\"),\n",
    "    col(\"staff_number_final\").alias(\"staff_number\"),\n",
    "    col(\"career_page_job_count\"),\n",
    "    col(\"city\"),\n",
    "    col(\"lat\"),\n",
    "    col(\"lng\"),\n",
    "    col(\"company_size\")\n",
    ")\n",
    "\n",
    "# Create a coordinates column\n",
    "df_general = df_general.withColumn(\"coordinates\", concat(lit(\"(\"), col(\"lat\"), lit(\", \"), col(\"lng\"), lit(\")\")))\n",
    "\n",
    "# Define types\n",
    "df_general = df_general.withColumn(\"foundation_date\", col(\"foundation_date\").cast(DateType())) \\\n",
    "                    .withColumn(\"staff_number\", col(\"staff_number\").cast(IntegerType())) \\\n",
    "                    .withColumn(\"career_page_job_count\", col(\"career_page_job_count\").cast(IntegerType()))\n",
    "\n",
    "# Select relevant tables\n",
    "df_general = df_general.select(\n",
    "    col(\"business_id\"),\n",
    "    col(\"company_name\"),\n",
    "    col(\"foundation_date\"),\n",
    "    col(\"description\"),\n",
    "    col(\"staff_number\"),\n",
    "    col(\"career_page_job_count\"),\n",
    "    col(\"city\"),\n",
    "    col(\"coordinates\"),\n",
    "    col(\"company_size\")\n",
    ")\n",
    "\n",
    "\n",
    "\n",
    "# Remove [] from company_size colum\n",
    "df_general = df_general.withColumn(\"company_size\", regexp_replace(col(\"company_size\"), \"[\\\\[\\\\]]\", \"\"))\n",
    "\n",
    "df_general.printSchema()\n",
    "df_general.show()\n",
    "\n",
    "# Save to lakehouse\n",
    "df_general.write.format(\"delta\").mode(\"overwrite\").option(\"overwriteSchema\", \"true\").saveAsTable(\"vainu_general_silver\")"
   ]
  },
  {
   "cell_type": "code",
   "execution_count": 5,
   "id": "c68440ab-a6bc-4751-9912-ce16e2dacf8b",
   "metadata": {
    "microsoft": {
     "language": "python",
     "language_group": "synapse_pyspark"
    }
   },
   "outputs": [
    {
     "data": {
      "application/vnd.livy.statement-meta+json": {
       "execution_finish_time": "2025-03-25T10:58:50.901781Z",
       "execution_start_time": "2025-03-25T10:58:50.6711673Z",
       "livy_statement_state": "available",
       "normalized_state": "finished",
       "parent_msg_id": "5779c32c-8f47-4561-abd8-fd4a3f364d28",
       "queued_time": "2025-03-25T10:54:48.8149364Z",
       "session_id": "4cdf2036-d8ba-44f4-be50-946360510d86",
       "session_start_time": null,
       "spark_pool": null,
       "state": "finished",
       "statement_id": 6,
       "statement_ids": [
        6
       ]
      },
      "text/plain": [
       "StatementMeta(, 4cdf2036-d8ba-44f4-be50-946360510d86, 6, Finished, Available, Finished)"
      ]
     },
     "metadata": {},
     "output_type": "display_data"
    }
   ],
   "source": [
    "# df_general.createOrReplaceTempView(\"gene\")\n",
    "# sql = spark.sql(\n",
    "#     \"\"\"SELECT COUNT (business_id)\n",
    "#     FROM gene\n",
    "#     WHERE status != \"active\"\n",
    "#     \"\"\"\n",
    "#     )\n",
    "\n",
    "# sql.show()"
   ]
  },
  {
   "cell_type": "markdown",
   "id": "d7d24cec-ab25-4bc3-9e2c-fd54e9cb0deb",
   "metadata": {
    "microsoft": {
     "language": "python",
     "language_group": "synapse_pyspark"
    },
    "nteract": {
     "transient": {
      "deleting": false
     }
    }
   },
   "source": [
    "Form the financial dataframe"
   ]
  },
  {
   "cell_type": "code",
   "execution_count": 6,
   "id": "a2bdddae-7446-40fe-8467-a75b33194e79",
   "metadata": {
    "microsoft": {
     "language": "python",
     "language_group": "synapse_pyspark"
    }
   },
   "outputs": [
    {
     "data": {
      "application/vnd.livy.statement-meta+json": {
       "execution_finish_time": "2025-03-25T10:58:59.4066868Z",
       "execution_start_time": "2025-03-25T10:58:50.9042403Z",
       "livy_statement_state": "available",
       "normalized_state": "finished",
       "parent_msg_id": "3ba45ac9-87c1-46d3-958b-4820fb04b49c",
       "queued_time": "2025-03-25T10:54:48.9110833Z",
       "session_id": "4cdf2036-d8ba-44f4-be50-946360510d86",
       "session_start_time": null,
       "spark_pool": null,
       "state": "finished",
       "statement_id": 7,
       "statement_ids": [
        7
       ]
      },
      "text/plain": [
       "StatementMeta(, 4cdf2036-d8ba-44f4-be50-946360510d86, 7, Finished, Available, Finished)"
      ]
     },
     "metadata": {},
     "output_type": "display_data"
    },
    {
     "name": "stdout",
     "output_type": "stream",
     "text": [
      "root\n",
      " |-- business_id: string (nullable = true)\n",
      " |-- year: integer (nullable = true)\n",
      " |-- turn_over: integer (nullable = true)\n",
      " |-- profit_margin: float (nullable = true)\n",
      " |-- employee_salary: integer (nullable = true)\n",
      " |-- net_income: integer (nullable = true)\n",
      " |-- profit_margin_deci: float (nullable = true)\n",
      "\n",
      "+-----------+----+----------+-------------+---------------+----------+------------------+\n",
      "|business_id|year|turn_over |profit_margin|employee_salary|net_income|profit_margin_deci|\n",
      "+-----------+----+----------+-------------+---------------+----------+------------------+\n",
      "|27323889   |2023|4618500   |18.67        |1618582        |2762511   |0.1867            |\n",
      "|27323889   |2022|1627000   |63.33        |987258         |3687381   |0.6333            |\n",
      "|27323889   |2021|1630144   |61.44        |832948         |3755521   |0.61439997        |\n",
      "|27323889   |2020|1006848   |56.84        |626166         |2625158   |0.5684            |\n",
      "|27323889   |2019|1111440   |-28.05       |630517         |-2112411  |-0.2805           |\n",
      "|27323889   |2018|960000    |-68.04       |667221         |-818178   |-0.6804           |\n",
      "|27323889   |2017|480000    |-153.1       |497552         |-1741838  |-1.531            |\n",
      "|27323889   |2016|991056    |-27.78       |481575         |-248092   |-0.2778           |\n",
      "|24465240   |2023|143091497 |NULL         |NULL           |696196    |NULL              |\n",
      "|24465240   |2022|7188553   |-39.79       |3861628        |980414    |-0.39790002       |\n",
      "|24465240   |2021|3615324   |-51.58       |3275098        |1385266   |-0.5158           |\n",
      "|24465240   |2020|2725420   |-59.35       |2407794        |1441423   |-0.59349996       |\n",
      "|24465240   |2019|2920773   |-49.29       |2319966        |2578121   |-0.4929           |\n",
      "|24465240   |2018|2086276   |-73.43       |2347511        |-225763   |-0.7343           |\n",
      "|24465240   |2017|1300220   |NULL         |1274937        |2246781   |NULL              |\n",
      "|24465240   |2016|1496501   |-23.48       |1080712        |1384067   |-0.2348           |\n",
      "|24465240   |2015|1220810   |-41.72       |1037031        |470564    |-0.4172           |\n",
      "|24465240   |2014|1037193   |-25.99       |826105         |809280    |-0.2599           |\n",
      "|01540885   |2023|173888218 |NULL         |NULL           |15391544  |NULL              |\n",
      "|01540885   |2022|10591557  |-3.37        |4967556        |6174085   |-0.0337           |\n",
      "|01540885   |2021|9871853   |-4.37        |4638777        |6058078   |-0.0437           |\n",
      "|01540885   |2020|8282781   |-2.28        |3726102        |2494526   |-0.0228           |\n",
      "|01540885   |2018|122360688 |7.36         |NULL           |7365287   |0.0736            |\n",
      "|01540885   |2017|108300207 |5.6          |NULL           |5756331   |0.055999998       |\n",
      "|01540885   |2016|6205928   |-8.35        |NULL           |2227003   |-0.083500005      |\n",
      "|01540885   |2015|6033498   |-1.6         |2400445        |2072330   |-0.016            |\n",
      "|01540885   |2014|5508146   |0.85         |2177485        |1821621   |0.0085            |\n",
      "|01540885   |2013|4409348   |-7.98        |1808577        |4279689   |-0.0798           |\n",
      "|10410900   |2021|NULL      |11.79        |NULL           |469000000 |0.1179            |\n",
      "|10410900   |2020|1816000000|-1.49        |NULL           |249000000 |-0.0149           |\n",
      "|10410900   |2019|NULL      |11.84        |NULL           |756182443 |0.1184            |\n",
      "|10410900   |2018|NULL      |22.29        |NULL           |780361424 |0.2229            |\n",
      "|10410900   |2017|NULL      |25.32        |NULL           |859161250 |0.2532            |\n",
      "|10410900   |2016|NULL      |12.57        |NULL           |254985094 |0.1257            |\n",
      "|10410900   |2015|NULL      |13.98        |NULL           |545045922 |0.1398            |\n",
      "|06005179   |2023|151907341 |NULL         |NULL           |-466821   |NULL              |\n",
      "|06005179   |2022|924540    |-30.71       |352955         |2448650   |-0.3071           |\n",
      "|06005179   |2021|961999    |-41.47       |415373         |1707048   |-0.4147           |\n",
      "|06005179   |2020|910158    |-32.19       |381134         |1191382   |-0.32189998       |\n",
      "|06005179   |2019|974163    |-32.11       |379450         |1225627   |-0.3211           |\n",
      "|06005179   |2018|959809    |NULL         |NULL           |NULL      |NULL              |\n",
      "|06005179   |2016|2702095   |NULL         |1147994        |NULL      |NULL              |\n",
      "|06005179   |2015|1931288   |NULL         |988408         |NULL      |NULL              |\n",
      "|06005179   |2014|2749677   |NULL         |1177281        |298901    |NULL              |\n",
      "|06005179   |2013|2758651   |NULL         |1632243        |-5596458  |NULL              |\n",
      "|09488655   |2022|1751621692|18.33        |NULL           |266175122 |0.1833            |\n",
      "|09488655   |2021|1096404129|17.1         |NULL           |140166210 |0.171             |\n",
      "|09488655   |2020|769037019 |4.93         |NULL           |4881355   |0.0493            |\n",
      "|09488655   |2019|789131463 |11.84        |NULL           |55128577  |0.1184            |\n",
      "|09488655   |2018|744657037 |10.47        |NULL           |44400145  |0.1047            |\n",
      "|09488655   |2017|703067149 |8.46         |NULL           |17209942  |0.0846            |\n",
      "|09488655   |2016|642472598 |7.95         |NULL           |20140549  |0.0795            |\n",
      "|09488655   |2015|776690493 |8.52         |NULL           |43711771  |0.085200004       |\n",
      "|09488655   |2014|739377701 |6.85         |NULL           |33668832  |0.0685            |\n",
      "|09488655   |2013|785138406 |6.38         |NULL           |12960354  |0.0638            |\n",
      "|07909057   |2023|377385591 |NULL         |NULL           |6722536   |NULL              |\n",
      "|07909057   |2022|7419614   |2.76         |NULL           |4596141   |0.0276            |\n",
      "|07909057   |2021|6851956   |1.65         |NULL           |8918288   |0.0165            |\n",
      "|07909057   |2020|7254853   |7.77         |NULL           |7887674   |0.0777            |\n",
      "|07909057   |2019|6217333   |10.69        |NULL           |8824201   |0.1069            |\n",
      "|07909057   |2018|306840497 |3.68         |NULL           |6147926   |0.0368            |\n",
      "|07909057   |2017|311773387 |4.33         |NULL           |10606120  |0.0433            |\n",
      "|07909057   |2016|4600402   |14.17        |1390791        |3684361   |0.1417            |\n",
      "|07909057   |2015|273973718 |1.73         |NULL           |3268490   |0.0173            |\n",
      "|23365096   |2023|1698153652|NULL         |NULL           |411654456 |NULL              |\n",
      "|23365096   |2022|1550931807|43.16        |NULL           |539964943 |0.4316            |\n",
      "|23365096   |2021|1795282499|44.08        |NULL           |643315301 |0.4408            |\n",
      "|23365096   |2020|1271096775|30.28        |NULL           |346968667 |0.3028            |\n",
      "|23365096   |2019|1369225307|36.94        |NULL           |409174011 |0.3694            |\n",
      "|23365096   |2018|1333788850|39.3         |NULL           |449342284 |0.393             |\n",
      "|23365096   |2017|1787300689|39.27        |NULL           |521440811 |0.39270002        |\n",
      "|23365096   |2016|2099600722|42.78        |NULL           |744915398 |0.4278            |\n",
      "|23365096   |2015|2109181553|39.9         |NULL           |691001548 |0.39900002        |\n",
      "|09210645   |2023|205210112 |NULL         |NULL           |1925231   |NULL              |\n",
      "|09210645   |2023|3543345   |-38.67       |1479561        |1950323   |-0.38669997       |\n",
      "|09210645   |2022|3362944   |-37.69       |1414200        |1858013   |-0.3769           |\n",
      "|09210645   |2021|3279396   |42.51        |1582404        |1024964   |0.42509997        |\n",
      "|09210645   |2020|3526678   |-45.86       |1785968        |2135542   |-0.4586           |\n",
      "|09210645   |2019|3306991   |-62.56       |1574615        |2259167   |-0.62560004       |\n",
      "|09210645   |2018|3195614   |-70.59       |2166360        |1517305   |-0.70589995       |\n",
      "|09210645   |2017|3697119   |-31.82       |2256718        |2013248   |-0.3182           |\n",
      "|09210645   |2016|906662    |-79.24       |970496         |461999    |-0.7924           |\n",
      "|09210645   |2015|1006761   |-34.67       |897008         |2967492   |-0.34669998       |\n",
      "|09210645   |2014|946122    |-32.17       |878170         |2860360   |-0.32169998       |\n",
      "|09210645   |2013|814761    |-29.26       |672010         |2667018   |-0.2926           |\n",
      "|17101289   |2021|104509000 |11.67        |NULL           |9073000   |0.1167            |\n",
      "|17101289   |2020|77953000  |11.02        |NULL           |6903000   |0.1102            |\n",
      "|17101289   |2019|64066311  |9.45         |NULL           |4445353   |0.0945            |\n",
      "|17101289   |2018|49468973  |12.2         |NULL           |4755458   |0.122             |\n",
      "|17101289   |2017|28671590  |15.38        |NULL           |2679895   |0.1538            |\n",
      "|17101289   |2016|18616292  |14.04        |8850869        |2107701   |0.14039999        |\n",
      "|17101289   |2015|12417887  |12.44        |5765946        |1226174   |0.1244            |\n",
      "|17101289   |2014|9181789   |14.81        |4146812        |1091920   |0.1481            |\n",
      "|17101289   |2013|5960586   |14.75        |2728524        |661597    |0.1475            |\n",
      "|10390508   |2022|NULL      |14.59        |NULL           |416000000 |0.1459            |\n",
      "|10390508   |2021|NULL      |14.35        |NULL           |637000000 |0.1435            |\n",
      "|10035215   |2021|674022000 |NULL         |NULL           |NULL      |NULL              |\n",
      "|10035215   |2020|636106000 |-6.06        |NULL           |-90672000 |-0.060599998      |\n",
      "|10035215   |2019|809154000 |34.82        |NULL           |233806000 |0.3482            |\n",
      "|10035215   |2018|817648000 |15.88        |NULL           |84044000  |0.1588            |\n",
      "|09771354   |2022|17948914  |-4.11        |NULL           |50828817  |-0.041100003      |\n",
      "|09771354   |2021|15424490  |-9.13        |NULL           |125350177 |-0.0913           |\n",
      "|09771354   |2020|19615723  |2.08         |NULL           |10106711  |0.0208            |\n",
      "|09771354   |2019|25923594  |-50.45       |NULL           |11036341  |-0.50450003       |\n",
      "|09771354   |2018|29407332  |NULL         |NULL           |10785661  |NULL              |\n",
      "|09771354   |2017|29533990  |NULL         |NULL           |15926255  |NULL              |\n",
      "|09771354   |2016|29153341  |NULL         |NULL           |NULL      |NULL              |\n",
      "|24472299   |2023|120282969 |NULL         |NULL           |7306787   |NULL              |\n",
      "|24472299   |2022|7510523   |-37.41       |1838455        |6084477   |-0.3741           |\n",
      "|24472299   |2021|6661266   |-7.47        |1799659        |6251672   |-0.0747           |\n",
      "|24472299   |2020|5938740   |-42.86       |1087773        |3896438   |-0.4286           |\n",
      "|24472299   |2019|6501127   |0.97         |998768         |110976    |0.0097            |\n",
      "|24472299   |2018|5557667   |-16.14       |845857         |5673947   |-0.16139999       |\n",
      "|24472299   |2017|877635    |-14.7        |426904         |14713843  |-0.147            |\n",
      "|24472299   |2016|502603    |-36.95       |507160         |9950945   |-0.3695           |\n",
      "|24472299   |2015|606312    |-3.07        |356459         |2998417   |-0.0307           |\n",
      "|05300029   |2023|8406603   |NULL         |3123864        |1419662   |NULL              |\n",
      "|05300029   |2022|8413164   |-5.62        |2942581        |-693516   |-0.056199998      |\n",
      "|05300029   |2021|7822049   |-26.34       |3195924        |52062     |-0.2634           |\n",
      "|05300029   |2020|6832856   |17.21        |3160646        |766473    |0.1721            |\n",
      "|05300029   |2019|6596202   |-11.91       |2846856        |-29237    |-0.1191           |\n",
      "|05300029   |2018|5242939   |-18.41       |2608984        |513821    |-0.1841           |\n",
      "|05300029   |2017|4917824   |47.85        |2339460        |13464017  |0.47849998        |\n",
      "|05300029   |2016|4854347   |-8.98        |2320727        |8313952   |-0.08979999       |\n",
      "|22036055   |2022|2627000   |-55.61       |NULL           |5922000   |-0.5561           |\n",
      "|22036055   |2021|288773    |NULL         |NULL           |NULL      |NULL              |\n",
      "|22036055   |2018|1965000   |-0.11        |NULL           |-2330     |-0.0011           |\n",
      "|22036055   |2014|1636158   |-30.19       |668773         |3701789   |-0.3019           |\n",
      "|22036055   |2013|1810576   |-5.76        |584080         |-553440   |-0.057600003      |\n",
      "|01242394   |2023|537506054 |NULL         |NULL           |NULL      |NULL              |\n",
      "|01242394   |2022|600589612 |3.09         |NULL           |15078432  |0.0309            |\n",
      "|01242394   |2021|516912011 |1.98         |NULL           |6384658   |0.0198            |\n",
      "|01242394   |2020|466420443 |1.85         |NULL           |3069224   |0.0185            |\n",
      "|01242394   |2019|485141755 |1.33         |NULL           |3385491   |0.013300001       |\n",
      "|01242394   |2018|462279898 |0.41         |NULL           |5813840   |0.0041            |\n",
      "|01242394   |2017|441824094 |1.39         |NULL           |4963155   |0.0139            |\n",
      "|01242394   |2015|461143158 |1.06         |NULL           |335103    |0.0106            |\n",
      "|01242394   |2014|400618090 |2.88         |NULL           |4530087   |0.028800001       |\n",
      "|01139012   |2023|205905093 |NULL         |NULL           |11793226  |NULL              |\n",
      "|01139012   |2022|238790072 |NULL         |NULL           |15487106  |NULL              |\n",
      "|01139012   |2022|214564863 |5.81         |NULL           |9665292   |0.0581            |\n",
      "|01139012   |2021|191010008 |6.28         |NULL           |9292958   |0.062800005       |\n",
      "|01139012   |2020|202970812 |4.16         |NULL           |6221651   |0.0416            |\n",
      "|01139012   |2019|214995239 |3.73         |NULL           |8386570   |0.0373            |\n",
      "|01139012   |2018|288321111 |7.86         |NULL           |18848609  |0.078600004       |\n",
      "|01139012   |2017|247873496 |6.44         |NULL           |12252075  |0.0644            |\n",
      "|01139012   |2016|214325872 |4.81         |NULL           |8562503   |0.0481            |\n",
      "|01139012   |2015|284579495 |NULL         |NULL           |13900012  |NULL              |\n",
      "|24305802   |2022|10244649  |-21.55       |NULL           |NULL      |-0.2155           |\n",
      "|24305802   |2021|10983479  |-22.84       |NULL           |NULL      |-0.2284           |\n",
      "|24305802   |2020|11997541  |7.79         |NULL           |NULL      |0.0779            |\n",
      "|24305802   |2015|11387055  |13.53        |NULL           |NULL      |0.1353            |\n",
      "|24305802   |2014|11688067  |-10.83       |NULL           |NULL      |-0.1083           |\n",
      "|17127921   |2023|211206483 |14.0         |NULL           |36257571  |0.14              |\n",
      "|17127921   |2022|201357183 |11.21        |NULL           |10730319  |0.1121            |\n",
      "|17127921   |2021|183388963 |19.54        |NULL           |26060305  |0.19540001        |\n",
      "|17127921   |2020|177044413 |22.68        |NULL           |25768951  |0.22680001        |\n",
      "|17127921   |2019|185165794 |13.35        |NULL           |22051629  |0.13350001        |\n",
      "|17127921   |2018|184969279 |11.98        |NULL           |22502287  |0.119799994       |\n",
      "|17127921   |2017|176061416 |14.58        |NULL           |28580097  |0.1458            |\n",
      "|17127921   |2016|172642565 |14.03        |NULL           |26559498  |0.14029999        |\n",
      "|17127921   |2015|164788323 |13.92        |NULL           |25476007  |0.1392            |\n",
      "|17127921   |2014|164034657 |16.73        |NULL           |33005347  |0.1673            |\n",
      "|17071868   |2021|9630000   |-39.38       |NULL           |-8742000  |-0.39380002       |\n",
      "|17071868   |2020|9562000   |-55.74       |NULL           |-11925000 |-0.5574           |\n",
      "|17071868   |2019|11383000  |-56.15       |NULL           |-21419000 |-0.5615           |\n",
      "|17071868   |2018|12599000  |NULL         |NULL           |NULL      |NULL              |\n",
      "|17071868   |2014|13616861  |-49.73       |NULL           |8964662   |-0.4973           |\n",
      "|17071868   |2013|7706948   |-50.97       |NULL           |1348845   |-0.5097           |\n",
      "|10728943   |2023|1209655756|NULL         |NULL           |141421233 |NULL              |\n",
      "|10728943   |2022|1808655910|8.54         |NULL           |114372621 |0.0854            |\n",
      "|10728943   |2021|1091127329|14.21        |NULL           |133493880 |0.1421            |\n",
      "|10728943   |2020|679761088 |17.8         |NULL           |136014363 |0.17799999        |\n",
      "|10728943   |2019|786172778 |18.77        |NULL           |148060722 |0.1877            |\n",
      "|10728943   |2018|844636947 |24.5         |NULL           |194570313 |0.245             |\n",
      "|10728943   |2017|665392912 |25.6         |NULL           |123358401 |0.256             |\n",
      "|10728943   |2016|581409910 |25.2         |NULL           |103866300 |0.252             |\n",
      "|10728943   |2015|592403122 |29.66        |NULL           |123741895 |0.29659998        |\n",
      "|10728943   |2014|559376009 |22.47        |NULL           |81043934  |0.22469999        |\n",
      "|07181668   |2022|335225040 |NULL         |NULL           |26800859  |NULL              |\n",
      "|07181668   |2022|349263667 |5.22         |NULL           |30202067  |0.052199997       |\n",
      "|07181668   |2021|300210287 |3.79         |NULL           |25262207  |0.0379            |\n",
      "|07181668   |2020|302503675 |6.16         |NULL           |29634753  |0.0616            |\n",
      "|07181668   |2019|366662737 |3.78         |NULL           |18823878  |0.0378            |\n",
      "|07181668   |2018|377943405 |6.96         |NULL           |29273932  |0.0696            |\n",
      "|07181668   |2017|321355811 |4.09         |NULL           |NULL      |0.040900003       |\n",
      "|07181668   |2016|303371440 |6.56         |NULL           |NULL      |0.0656            |\n",
      "|07181668   |2015|273152292 |5.15         |NULL           |NULL      |0.0515            |\n",
      "|07181668   |2014|249969197 |2.81         |NULL           |NULL      |0.028099999       |\n",
      "|08773454   |2023|530223874 |NULL         |NULL           |143365    |NULL              |\n",
      "|08773454   |2022|4106664   |4.15         |2346148        |NULL      |0.041500002       |\n",
      "|08773454   |2021|2973115   |5.36         |1475630        |104740    |0.053600002       |\n",
      "|08773454   |2020|2734627   |7.72         |1258357        |98424     |0.077199996       |\n",
      "|08773454   |2019|2804654   |9.47         |1248830        |84887     |0.0947            |\n",
      "|08773454   |2018|2935180   |12.15        |1220842        |108315    |0.12149999        |\n",
      "|08773454   |2017|2942156   |11.58        |1229880        |-6474     |0.1158            |\n",
      "|08773454   |2016|2588754   |8.02         |1184196        |26552     |0.0802            |\n",
      "|08773454   |2015|2507161   |10.3         |1111551        |-14740    |0.103             |\n",
      "|08773454   |2014|2329633   |11.95        |1005447        |-5403     |0.1195            |\n",
      "|01080233   |2021|814500000 |-74.46       |NULL           |-307000000|-0.7446           |\n",
      "+-----------+----+----------+-------------+---------------+----------+------------------+\n",
      "only showing top 200 rows\n",
      "\n"
     ]
    }
   ],
   "source": [
    "# Get relevant data for financial dataset\n",
    "\n",
    "fina_data = [{\"business_id\": c.get(\"business_id\", \"\"),\n",
    "            \"financial_statements\": c.get(\"financial_statements\")} for c in data_fina]\n",
    "\n",
    "\n",
    "# Manually define the schema\n",
    "schema_fina = StructType([\n",
    "    StructField(\"business_id\", StringType(), True),\n",
    "    StructField(\"financial_statements\", ArrayType(MapType(StringType(), StringType())), True)\n",
    "])\n",
    "\n",
    "# Create dataframe\n",
    "df_fina = spark.createDataFrame(fina_data, schema=schema_fina)\n",
    "\n",
    "# df_fina.show()\n",
    "\n",
    "df_fina = (\n",
    "    df_fina\n",
    "    .withColumn(\"fina\", explode(col(\"financial_statements\")))\n",
    "    )\n",
    "\n",
    "df_fina = df_fina.select(\n",
    "    col(\"business_id\"),\n",
    "    col(\"fina.year\").alias(\"year\"),\n",
    "    col(\"fina.turn_over_eur\").alias(\"turn_over_eur\"),\n",
    "    col(\"fina.profit\").alias(\"profit\"),\n",
    "    col(\"fina.employee_salary_local\").alias(\"employee_salary_local\"),\n",
    "    col(\"fina.net_income_local\").alias(\"net_income_local\")\n",
    ")\n",
    "\n",
    "\n",
    "df_fina = df_fina.withColumn(\"year\", col(\"year\").cast(IntegerType())) \\\n",
    "                .withColumn(\"turn_over_eur\", col(\"turn_over_eur\").cast(IntegerType())) \\\n",
    "                .withColumn(\"profit\", col(\"profit\").cast(FloatType())) \\\n",
    "                .withColumn(\"employee_salary_local\", col(\"employee_salary_local\").cast(IntegerType())) \\\n",
    "                .withColumn(\"net_income_local\", col(\"net_income_local\").cast(IntegerType()))\n",
    "                       \n",
    "\n",
    "\n",
    "\n",
    "df_fina = df_fina.select(\n",
    "    col(\"business_id\"),\n",
    "    col(\"year\"),\n",
    "    col(\"turn_over_eur\").alias(\"turn_over\"),\n",
    "    col(\"profit\").alias(\"profit_margin\"),\n",
    "    col(\"employee_salary_local\").alias(\"employee_salary\"),\n",
    "    col(\"net_income_local\").alias(\"net_income\")\n",
    ")\n",
    "\n",
    "\n",
    "# Filter out rows where turnover AND profit are NULL values\n",
    "df_fina = df_fina.filter((col(\"turn_over\").isNotNull()) | (col(\"profit_margin\").isNotNull()))\n",
    "\n",
    "# Change percentage values to decimal values\n",
    "df_fina = df_fina.withColumn(\"profit_margin_deci\", col(\"profit_margin\") / 100).withColumn(\"profit_margin_deci\", col(\"profit_margin_deci\").cast(FloatType()))\n",
    "\n",
    "# Taking absolute value from employee salaries and turnover\n",
    "df_fina = df_fina.withColumn(\"employee_salary\", abs(col(\"employee_salary\")))\n",
    "df_fina = df_fina.withColumn(\"turn_over\", abs(col(\"turn_over\")))\n",
    "\n",
    "# Show result\n",
    "df_fina.printSchema()\n",
    "df_fina.show(n = 200,truncate=False)\n",
    "\n",
    "# Save to lakehouse\n",
    "df_fina.write.format(\"delta\").mode(\"overwrite\").option(\"overwriteSchema\", \"true\").saveAsTable(\"vainu_financial_silver\")"
   ]
  },
  {
   "cell_type": "markdown",
   "id": "6e78b055-6942-4da4-8055-61729b027309",
   "metadata": {
    "microsoft": {
     "language": "python",
     "language_group": "synapse_pyspark"
    },
    "nteract": {
     "transient": {
      "deleting": false
     }
    }
   },
   "source": [
    "test filtering for fina"
   ]
  },
  {
   "cell_type": "code",
   "execution_count": 7,
   "id": "a210f9ae-63d4-4604-84ce-7deb229e455f",
   "metadata": {
    "microsoft": {
     "language": "python",
     "language_group": "synapse_pyspark"
    }
   },
   "outputs": [
    {
     "data": {
      "application/vnd.livy.statement-meta+json": {
       "execution_finish_time": "2025-03-25T10:59:00.8164563Z",
       "execution_start_time": "2025-03-25T10:58:59.409397Z",
       "livy_statement_state": "available",
       "normalized_state": "finished",
       "parent_msg_id": "56b1401d-c544-4f57-8214-a3b4ff728f72",
       "queued_time": "2025-03-25T10:54:48.9860068Z",
       "session_id": "4cdf2036-d8ba-44f4-be50-946360510d86",
       "session_start_time": null,
       "spark_pool": null,
       "state": "finished",
       "statement_id": 8,
       "statement_ids": [
        8
       ]
      },
      "text/plain": [
       "StatementMeta(, 4cdf2036-d8ba-44f4-be50-946360510d86, 8, Finished, Available, Finished)"
      ]
     },
     "metadata": {},
     "output_type": "display_data"
    },
    {
     "name": "stdout",
     "output_type": "stream",
     "text": [
      "+------------------+\n",
      "|count(business_id)|\n",
      "+------------------+\n",
      "|             71412|\n",
      "+------------------+\n",
      "\n"
     ]
    }
   ],
   "source": [
    "df_fina.createOrReplaceTempView(\"fina\")\n",
    "sql = spark.sql(\n",
    "    \"\"\"SELECT COUNT (business_id)\n",
    "    FROM fina\n",
    "    \"\"\"\n",
    "    )\n",
    "\n",
    "sql.show()"
   ]
  },
  {
   "cell_type": "markdown",
   "id": "a3e6f99c-0838-482a-8c14-6b9480a65f4b",
   "metadata": {
    "microsoft": {
     "language": "python",
     "language_group": "synapse_pyspark"
    },
    "nteract": {
     "transient": {
      "deleting": false
     }
    }
   },
   "source": [
    "Form the industry dataframe"
   ]
  },
  {
   "cell_type": "code",
   "execution_count": 8,
   "id": "d7695eb8-8c9b-443e-9013-289950e30fa0",
   "metadata": {
    "microsoft": {
     "language": "python",
     "language_group": "synapse_pyspark"
    }
   },
   "outputs": [
    {
     "data": {
      "application/vnd.livy.statement-meta+json": {
       "execution_finish_time": "2025-03-25T10:59:10.6005225Z",
       "execution_start_time": "2025-03-25T10:59:00.8189547Z",
       "livy_statement_state": "available",
       "normalized_state": "finished",
       "parent_msg_id": "866d6d8a-3c98-4595-8fc2-3b53824762ea",
       "queued_time": "2025-03-25T10:54:49.0569857Z",
       "session_id": "4cdf2036-d8ba-44f4-be50-946360510d86",
       "session_start_time": null,
       "spark_pool": null,
       "state": "finished",
       "statement_id": 9,
       "statement_ids": [
        9
       ]
      },
      "text/plain": [
       "StatementMeta(, 4cdf2036-d8ba-44f4-be50-946360510d86, 9, Finished, Available, Finished)"
      ]
     },
     "metadata": {},
     "output_type": "display_data"
    },
    {
     "name": "stdout",
     "output_type": "stream",
     "text": [
      "root\n",
      " |-- business_id: string (nullable = true)\n",
      " |-- industry_official: string (nullable = true)\n",
      " |-- industry_code_2: integer (nullable = true)\n",
      " |-- industry_code_1: string (nullable = true)\n",
      " |-- vainu_industry: string (nullable = true)\n",
      "\n",
      "+-----------+---------------------------------------------------------------------------+---------------+---------------+----------------------------------+\n",
      "|business_id|industry_official                                                          |industry_code_2|industry_code_1|vainu_industry                    |\n",
      "+-----------+---------------------------------------------------------------------------+---------------+---------------+----------------------------------+\n",
      "|27323889   |Wholesale trade, except of motor vehicles and motorcycles                  |46             |G              |B2C                               |\n",
      "|27323889   |Wholesale trade, except of motor vehicles and motorcycles                  |46             |G              |B2B                               |\n",
      "|27323889   |Wholesale trade, except of motor vehicles and motorcycles                  |46             |G              |Rental                            |\n",
      "|27323889   |Wholesale trade, except of motor vehicles and motorcycles                  |46             |G              |Construction                      |\n",
      "|27323889   |Wholesale trade, except of motor vehicles and motorcycles                  |46             |G              |Real Estate                       |\n",
      "|27323889   |Wholesale trade, except of motor vehicles and motorcycles                  |46             |G              |Sales                             |\n",
      "|24465240   |Activities of head offices; management consultancy activities              |70             |M              |B2B                               |\n",
      "|24465240   |Activities of head offices; management consultancy activities              |70             |M              |Information Technology            |\n",
      "|24465240   |Activities of head offices; management consultancy activities              |70             |M              |Artificial Intelligence           |\n",
      "|24465240   |Activities of head offices; management consultancy activities              |70             |M              |Software                          |\n",
      "|24465240   |Activities of head offices; management consultancy activities              |70             |M              |Machine Learning                  |\n",
      "|24465240   |Activities of head offices; management consultancy activities              |70             |M              |Consulting                        |\n",
      "|24465240   |Activities of head offices; management consultancy activities              |70             |M              |Business Intelligence             |\n",
      "|24465240   |Activities of head offices; management consultancy activities              |70             |M              |Analytics                         |\n",
      "|24465240   |Activities of head offices; management consultancy activities              |70             |M              |Big Data                          |\n",
      "|24465240   |Activities of head offices; management consultancy activities              |70             |M              |Information Services              |\n",
      "|24465240   |Activities of head offices; management consultancy activities              |70             |M              |CRM                               |\n",
      "|24465240   |Activities of head offices; management consultancy activities              |70             |M              |Azure                             |\n",
      "|24465240   |Activities of head offices; management consultancy activities              |70             |M              |Data Science                      |\n",
      "|24465240   |Activities of head offices; management consultancy activities              |70             |M              |Customer Experience               |\n",
      "|24465240   |Activities of head offices; management consultancy activities              |70             |M              |Enterprise Applications           |\n",
      "|24465240   |Activities of head offices; management consultancy activities              |70             |M              |PaaS                              |\n",
      "|24465240   |Activities of head offices; management consultancy activities              |70             |M              |Business Information Systems      |\n",
      "|24465240   |Activities of head offices; management consultancy activities              |70             |M              |Product Management                |\n",
      "|24465240   |Activities of head offices; management consultancy activities              |70             |M              |Customer Engagement               |\n",
      "|24465240   |Activities of head offices; management consultancy activities              |70             |M              |Intelligent Systems               |\n",
      "|24465240   |Activities of head offices; management consultancy activities              |70             |M              |Application Performance Management|\n",
      "|24465240   |Activities of head offices; management consultancy activities              |70             |M              |IT consulting                     |\n",
      "|01540885   |Office administrative, office support and other business support activities|82             |N              |B2B                               |\n",
      "|01540885   |Office administrative, office support and other business support activities|82             |N              |Information Technology            |\n",
      "|01540885   |Office administrative, office support and other business support activities|82             |N              |Cyber Security                    |\n",
      "|01540885   |Office administrative, office support and other business support activities|82             |N              |Software                          |\n",
      "|01540885   |Office administrative, office support and other business support activities|82             |N              |Security                          |\n",
      "|01540885   |Office administrative, office support and other business support activities|82             |N              |Aerospace                         |\n",
      "|01540885   |Office administrative, office support and other business support activities|82             |N              |Industrial Automation             |\n",
      "|01540885   |Office administrative, office support and other business support activities|82             |N              |Internet of Things                |\n",
      "|01540885   |Office administrative, office support and other business support activities|82             |N              |Manufacturing                     |\n",
      "|01540885   |Office administrative, office support and other business support activities|82             |N              |Engineering                       |\n",
      "|01540885   |Office administrative, office support and other business support activities|82             |N              |Robotics                          |\n",
      "|01540885   |Office administrative, office support and other business support activities|82             |N              |Software Engineering              |\n",
      "|01540885   |Office administrative, office support and other business support activities|82             |N              |Infrastructure                    |\n",
      "|01540885   |Office administrative, office support and other business support activities|82             |N              |National Security                 |\n",
      "|01540885   |Office administrative, office support and other business support activities|82             |N              |Industry 4.0                      |\n",
      "|01540885   |Office administrative, office support and other business support activities|82             |N              |Intelligent Systems               |\n",
      "|01540885   |Office administrative, office support and other business support activities|82             |N              |Nuclear                           |\n",
      "|01540885   |Office administrative, office support and other business support activities|82             |N              |Data Center Automation            |\n",
      "|01540885   |Office administrative, office support and other business support activities|82             |N              |Operating Systems                 |\n",
      "|10410900   |Manufacture of paper and paper products                                    |17             |C              |B2B                               |\n",
      "|10410900   |Manufacture of paper and paper products                                    |17             |C              |Wood Processing                   |\n",
      "|10410900   |Manufacture of paper and paper products                                    |17             |C              |Manufacturing                     |\n",
      "+-----------+---------------------------------------------------------------------------+---------------+---------------+----------------------------------+\n",
      "only showing top 50 rows\n",
      "\n"
     ]
    }
   ],
   "source": [
    "# Get relevant data for industry dataset\n",
    "\n",
    "industry_data = [{\"business_id\": c.get(\"business_id\", \"\"),\n",
    "                 \"official_industries\": c.get(\"official_industries\"),\n",
    "                 \"vainu_custom_industry\": c.get(\"vainu_custom_industry\")} for c in data_general]\n",
    "\n",
    "\n",
    "# Manually define the schema\n",
    "schema_industry = StructType([\n",
    "    StructField(\"business_id\", StringType(), True),\n",
    "    StructField(\"official_industries\", ArrayType(MapType(StringType(), StringType())), True),\n",
    "    StructField(\"vainu_custom_industry\", ArrayType(MapType(StringType(), StringType())), True)\n",
    "])\n",
    "\n",
    "df_industry = spark.createDataFrame(industry_data, schema=schema_industry)\n",
    "\n",
    "df_industry = (\n",
    "    df_industry\n",
    "    .withColumn(\"off_ind\", explode(col(\"official_industries\")))\n",
    "    .withColumn(\"vainu_ind\", explode(col(\"vainu_custom_industry\")))\n",
    ")\n",
    "\n",
    "df_industry = df_industry.select(\n",
    "    col(\"business_id\"),\n",
    "    col(\"off_ind.code_2_level_descriptions\").alias(\"industry\"),\n",
    "    col(\"off_ind.code_2_level\").alias(\"industry_code_2\"),\n",
    "    col(\"off_ind.code_1_level\").alias(\"industry_code_1\"),\n",
    "    col(\"vainu_ind.confidence_class\").alias(\"vainu_class\"),\n",
    "    col(\"vainu_ind.value\").alias(\"vainu_industry\"),\n",
    "    col(\"vainu_ind.confidence_score\").alias(\"vainu_score\"),\n",
    "    col(\"vainu_ind.confidence_thresholds\").alias(\"vainu_threshold\"),\n",
    ")\n",
    "\n",
    "df_industry = df_industry.filter(col(\"vainu_class\") == \"high\")\n",
    "\n",
    "df_industry = df_industry.select(\n",
    "    col(\"business_id\"),\n",
    "    col(\"industry\").alias(\"industry_official\"),\n",
    "    col(\"industry_code_2\"),\n",
    "    col(\"industry_code_1\"),\n",
    "    col(\"vainu_industry\")\n",
    ")\n",
    "\n",
    "\n",
    "df_industry = df_industry.withColumn(\"industry_code_2\", col(\"industry_code_2\").cast(IntegerType()))\n",
    "\n",
    "df_industry = df_industry.withColumn(\"industry_official\", regexp_replace(col(\"industry_official\"), r\"^\\{en=|\\}$\", \"\"))\n",
    "\n",
    "df_industry.printSchema()\n",
    "# Show result\n",
    "df_industry.show(n = 50,truncate=False)\n",
    "\n",
    "\n",
    "# Save to lakehouse\n",
    "df_industry.write.format(\"delta\").mode(\"overwrite\").option(\"overwriteSchema\", \"true\").saveAsTable(\"vainu_industry_silver\")\n"
   ]
  },
  {
   "cell_type": "markdown",
   "id": "8046c0cd-9d92-42e8-b2ce-df7047f4aa32",
   "metadata": {
    "microsoft": {
     "language": "python",
     "language_group": "synapse_pyspark"
    },
    "nteract": {
     "transient": {
      "deleting": false
     }
    }
   },
   "source": [
    "sql querying"
   ]
  },
  {
   "cell_type": "code",
   "execution_count": 9,
   "id": "97f4f031-332d-4f96-a3cc-13ddaa18dd19",
   "metadata": {
    "microsoft": {
     "language": "python",
     "language_group": "synapse_pyspark"
    }
   },
   "outputs": [
    {
     "data": {
      "application/vnd.livy.statement-meta+json": {
       "execution_finish_time": "2025-03-25T10:59:10.8358303Z",
       "execution_start_time": "2025-03-25T10:59:10.6031421Z",
       "livy_statement_state": "available",
       "normalized_state": "finished",
       "parent_msg_id": "b2c39ebe-547c-4b15-8fb3-460ea74057ad",
       "queued_time": "2025-03-25T10:54:49.1363362Z",
       "session_id": "4cdf2036-d8ba-44f4-be50-946360510d86",
       "session_start_time": null,
       "spark_pool": null,
       "state": "finished",
       "statement_id": 10,
       "statement_ids": [
        10
       ]
      },
      "text/plain": [
       "StatementMeta(, 4cdf2036-d8ba-44f4-be50-946360510d86, 10, Finished, Available, Finished)"
      ]
     },
     "metadata": {},
     "output_type": "display_data"
    }
   ],
   "source": [
    "\n",
    "# Check categories\n",
    "# df_industry.createOrReplaceTempView(\"industrytable\")\n",
    "# sql = spark.sql(\n",
    "#     \"\"\"SELECT DISTINCT industry\n",
    "#     FROM industrytable\n",
    "#     \"\"\"\n",
    "#     )\n",
    "\n",
    "# sql.show(truncate=False)"
   ]
  }
 ],
 "metadata": {
  "dependencies": {
   "lakehouse": {
    "default_lakehouse": "20ac94e1-675c-4a9f-bf60-e8b533f17c6a",
    "default_lakehouse_name": "lead_generator_lakehouse",
    "default_lakehouse_workspace_id": "3d31ea41-b9d1-43a4-ae29-ba7ffc73a4fd"
   }
  },
  "kernel_info": {
   "name": "synapse_pyspark"
  },
  "kernelspec": {
   "display_name": "Synapse PySpark",
   "language": "Python",
   "name": "synapse_pyspark"
  },
  "language_info": {
   "name": "python"
  },
  "microsoft": {
   "language": "python",
   "language_group": "synapse_pyspark",
   "ms_spell_check": {
    "ms_spell_check_language": "en"
   }
  },
  "nteract": {
   "version": "nteract-front-end@1.0.0"
  },
  "spark_compute": {
   "compute_id": "/trident/default",
   "session_options": {
    "conf": {
     "spark.synapse.nbs.session.timeout": "1200000"
    }
   }
  }
 },
 "nbformat": 4,
 "nbformat_minor": 5
}
