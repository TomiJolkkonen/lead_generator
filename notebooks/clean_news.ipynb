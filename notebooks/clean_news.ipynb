{
 "cells": [
  {
   "cell_type": "markdown",
   "id": "d3e30142-0195-4bbc-ab20-16072d375ea1",
   "metadata": {
    "microsoft": {
     "language": "python",
     "language_group": "synapse_pyspark"
    },
    "nteract": {
     "transient": {
      "deleting": false
     }
    }
   },
   "source": [
    "##### Read the csv files to dataframe"
   ]
  },
  {
   "cell_type": "code",
   "execution_count": null,
   "id": "4ebdd7e8-f89a-4117-a94a-7bd0378e1819",
   "metadata": {
    "advisor": {
     "adviceMetadata": "{\"artifactId\":\"37fcb457-91f7-46ce-a752-fc338ee98d8d\",\"activityId\":\"c1dc27b8-cdc2-4346-9ae3-ed3f606de78f\",\"applicationId\":\"application_1742798936962_0001\",\"jobGroupId\":\"3\",\"advices\":{\"info\":2}}"
    },
    "collapsed": false,
    "microsoft": {
     "language": "python",
     "language_group": "synapse_pyspark"
    }
   },
   "outputs": [
    {
     "data": {
      "application/vnd.livy.statement-meta+json": {
       "execution_finish_time": "2025-03-24T06:57:38.1111793Z",
       "execution_start_time": "2025-03-24T06:57:32.5849001Z",
       "livy_statement_state": "available",
       "normalized_state": "finished",
       "parent_msg_id": "2258c02d-d3d1-4c69-9a1f-bd636758a98e",
       "queued_time": "2025-03-24T06:57:17.4404801Z",
       "session_id": "c1dc27b8-cdc2-4346-9ae3-ed3f606de78f",
       "session_start_time": "2025-03-24T06:57:17.4418656Z",
       "spark_pool": null,
       "state": "finished",
       "statement_id": 3,
       "statement_ids": [
        3
       ]
      },
      "text/plain": [
       "StatementMeta(, c1dc27b8-cdc2-4346-9ae3-ed3f606de78f, 3, Finished, Available, Finished)"
      ]
     },
     "metadata": {},
     "output_type": "display_data"
    },
    {
     "data": {
      "application/vnd.synapse.widget-view+json": {
       "widget_id": "445863b4-3866-4aa7-b31d-3c08065b1eeb",
       "widget_type": "Synapse.DataFrame"
      },
      "text/plain": [
       "SynapseWidget(Synapse.DataFrame, 445863b4-3866-4aa7-b31d-3c08065b1eeb)"
      ]
     },
     "metadata": {},
     "output_type": "display_data"
    }
   ],
   "source": [
    "df = spark.read.option(\"header\", \"true\") \\\n",
    "               .option(\"quote\", '\"') \\\n",
    "               .csv(\"your path here\")     # Replace \"your path here\" with the actual path to your CSV file\n",
    "\n",
    "display(df)"
   ]
  },
  {
   "cell_type": "markdown",
   "id": "1e86da81-c21c-41d9-94dc-5cc362279a3f",
   "metadata": {
    "microsoft": {
     "language": "python",
     "language_group": "synapse_pyspark"
    },
    "nteract": {
     "transient": {
      "deleting": false
     }
    }
   },
   "source": [
    "##### Clean headlines to remove quotes and drop duplicate news based on headline"
   ]
  },
  {
   "cell_type": "code",
   "execution_count": 2,
   "id": "8a40c965-2f2d-43c7-9e26-d9fa72b97319",
   "metadata": {
    "advisor": {
     "adviceMetadata": "{\"artifactId\":\"37fcb457-91f7-46ce-a752-fc338ee98d8d\",\"activityId\":\"c1dc27b8-cdc2-4346-9ae3-ed3f606de78f\",\"applicationId\":\"application_1742798936962_0001\",\"jobGroupId\":\"4\",\"advices\":{\"info\":1}}"
    },
    "collapsed": false,
    "microsoft": {
     "language": "python",
     "language_group": "synapse_pyspark"
    }
   },
   "outputs": [
    {
     "data": {
      "application/vnd.livy.statement-meta+json": {
       "execution_finish_time": "2025-03-24T06:57:39.5743028Z",
       "execution_start_time": "2025-03-24T06:57:38.1137376Z",
       "livy_statement_state": "available",
       "normalized_state": "finished",
       "parent_msg_id": "e5581fc8-e1a0-4907-8f2e-550cc7d3a402",
       "queued_time": "2025-03-24T06:57:17.4417617Z",
       "session_id": "c1dc27b8-cdc2-4346-9ae3-ed3f606de78f",
       "session_start_time": null,
       "spark_pool": null,
       "state": "finished",
       "statement_id": 4,
       "statement_ids": [
        4
       ]
      },
      "text/plain": [
       "StatementMeta(, c1dc27b8-cdc2-4346-9ae3-ed3f606de78f, 4, Finished, Available, Finished)"
      ]
     },
     "metadata": {},
     "output_type": "display_data"
    },
    {
     "data": {
      "application/vnd.synapse.widget-view+json": {
       "widget_id": "73c24d23-2696-4de0-91e6-6c4a243d8644",
       "widget_type": "Synapse.DataFrame"
      },
      "text/plain": [
       "SynapseWidget(Synapse.DataFrame, 73c24d23-2696-4de0-91e6-6c4a243d8644)"
      ]
     },
     "metadata": {},
     "output_type": "display_data"
    }
   ],
   "source": [
    "from pyspark.sql import functions as F\n",
    "\n",
    "# Drop duplicate headlines\n",
    "df_cleaned = df.dropDuplicates(subset=[\"headline\"])\n",
    "\n",
    "# Remove any quotes from headlines\n",
    "df_cleaned = df_cleaned.withColumn(\"headline\", F.regexp_replace(F.col(\"headline\"), '[\\'\"]', ''))\n",
    "\n",
    "display(df_cleaned)"
   ]
  },
  {
   "cell_type": "markdown",
   "id": "29388dd3-c033-4e46-93b8-2bb0db3b2ed4",
   "metadata": {
    "microsoft": {
     "language": "python",
     "language_group": "synapse_pyspark"
    },
    "nteract": {
     "transient": {
      "deleting": false
     }
    }
   },
   "source": [
    "##### Load silver table to lakehouse"
   ]
  },
  {
   "cell_type": "code",
   "execution_count": 3,
   "id": "cc296dbb-421e-4c2e-923b-6350b28b7b89",
   "metadata": {
    "advisor": {
     "adviceMetadata": "{\"artifactId\":\"37fcb457-91f7-46ce-a752-fc338ee98d8d\",\"activityId\":\"c1dc27b8-cdc2-4346-9ae3-ed3f606de78f\",\"applicationId\":\"application_1742798936962_0001\",\"jobGroupId\":\"5\",\"advices\":{\"info\":1}}"
    },
    "microsoft": {
     "language": "python",
     "language_group": "synapse_pyspark"
    }
   },
   "outputs": [
    {
     "data": {
      "application/vnd.livy.statement-meta+json": {
       "execution_finish_time": "2025-03-24T06:57:57.9447243Z",
       "execution_start_time": "2025-03-24T06:57:39.5767487Z",
       "livy_statement_state": "available",
       "normalized_state": "finished",
       "parent_msg_id": "46d4a3ef-ac6f-4b64-997e-da4e70427f5b",
       "queued_time": "2025-03-24T06:57:17.4425245Z",
       "session_id": "c1dc27b8-cdc2-4346-9ae3-ed3f606de78f",
       "session_start_time": null,
       "spark_pool": null,
       "state": "finished",
       "statement_id": 5,
       "statement_ids": [
        5
       ]
      },
      "text/plain": [
       "StatementMeta(, c1dc27b8-cdc2-4346-9ae3-ed3f606de78f, 5, Finished, Available, Finished)"
      ]
     },
     "metadata": {},
     "output_type": "display_data"
    },
    {
     "name": "stdout",
     "output_type": "stream",
     "text": [
      "Data saved to lakehouse\n"
     ]
    }
   ],
   "source": [
    "# Load silver table to lakehouse\n",
    "df_cleaned.write.format(\"delta\").mode(\"overwrite\").saveAsTable(\"news_silver\")\n",
    "\n",
    "print(\"Data saved to lakehouse\")"
   ]
  }
 ],
 "metadata": {
  "dependencies": {
   "lakehouse": {
    "default_lakehouse": "20ac94e1-675c-4a9f-bf60-e8b533f17c6a",
    "default_lakehouse_name": "lead_generator_lakehouse",
    "default_lakehouse_workspace_id": "3d31ea41-b9d1-43a4-ae29-ba7ffc73a4fd"
   }
  },
  "kernel_info": {
   "name": "synapse_pyspark"
  },
  "kernelspec": {
   "display_name": "Synapse PySpark",
   "language": "Python",
   "name": "synapse_pyspark"
  },
  "language_info": {
   "name": "python"
  },
  "microsoft": {
   "language": "python",
   "language_group": "synapse_pyspark",
   "ms_spell_check": {
    "ms_spell_check_language": "en"
   }
  },
  "nteract": {
   "version": "nteract-front-end@1.0.0"
  },
  "spark_compute": {
   "compute_id": "/trident/default",
   "session_options": {
    "conf": {
     "spark.synapse.nbs.session.timeout": "1200000"
    }
   }
  },
  "synapse_widget": {
   "state": {
    "445863b4-3866-4aa7-b31d-3c08065b1eeb": {
     "persist_state": {
      "view": {
       "chartOptions": {
        "aggregationType": "count",
        "binsNumber": 10,
        "categoryFieldKeys": [
         "0"
        ],
        "chartType": "bar",
        "evaluatesOverAllRecords": false,
        "isStacked": false,
        "seriesFieldKeys": [
         "0"
        ],
        "wordFrequency": "-1"
       },
       "tableOptions": {},
       "type": "details",
       "viewOptionsGroup": [
        {
         "tabItems": [
          {
           "key": "0",
           "name": "Table",
           "options": {},
           "type": "table"
          }
         ]
        }
       ]
      }
     },
     "sync_state": {
      "isSummary": false,
      "language": "scala",
      "table": {
       "rows": [
        {
         "0": "Uusiteknologia.fi",
         "1": "Tekoäly tulee sulautettuihin - ohjelmointi ja sovellukset"
        },
        {
         "0": "Uusiteknologia.fi",
         "1": "Tekoäly tulee sulautettuihin - ohjelmointi ja sovellukset"
        },
        {
         "0": "Uusiteknologia.fi",
         "1": "Tekoäly tulee sulautettuihin - ohjelmointi ja sovellukset"
        },
        {
         "0": "ETN",
         "1": "Koneoppiminen dominoi tekoälymarkkinaa"
        },
        {
         "0": "Aamuset",
         "1": "Koneoppiminen raivaa tietä tulevaisuuden joustaville biojalostamoille"
        },
        {
         "0": "Tivi",
         "1": "\"Suomalainen tekoäly-yhtiö sai ison voiton Yhdysvalloissa - Uskomaton käänne tulee \"\"ennemmin kuin uskotaan\"\""
        },
        {
         "0": "Tivi",
         "1": "Pian Mersut kasaa älyrobotti - Tekoäly tulee autotehtaisiin"
        },
        {
         "0": "Yle",
         "1": "Storytelin hittikirjan suomennos on täynnä kummallisuuksia - lukijat huomasivat, että tekoäly on tehnyt käännöksen"
        },
        {
         "0": "Uudenkaupungin Sanomat",
         "1": "\"\"\"Tätä työtä ei tekoäly voi korvata\"\" - Satulasepän työ vaatii kädentaitoja ja voimaa\""
        },
        {
         "0": "Teknavi",
         "1": "Meta AI tulee nyt osaksi Messengeriä, WhatsAppia ja Instagramia Euroopassakin - Metan haastaja ChatGPT:lle saataville tutuissa sovelluksissa"
        },
        {
         "0": "Kauppalehti",
         "1": "Älyrobotti kasaa pian Mersuja - Tekoäly tulee autotehtaisiin"
        },
        {
         "0": "Kauppalehti",
         "1": "\"Suomalainen tekoäly-yhtiö sai ison voiton Yhdysvalloissa - Uskomaton käänne tulee \"\"ennemmin kuin uskotaan\"\""
        },
        {
         "0": "Uusiteknologia.fi",
         "1": "Tekoäly tulee sulautettuihin - ohjelmointi ja sovellukset"
        },
        {
         "0": "Mobiili.fi",
         "1": "Meta AI tulee nyt osaksi Messengeriä, WhatsAppia ja Instagramia Euroopassakin - Metan haastaja ChatGPT:lle saataville tutuissa sovelluksissa"
        },
        {
         "0": "HS.fi",
         "1": "\"Ruokakaupan eteisessä mainostetaan maksullista \"\"juttukaveria\"\" - Soitimme sille"
        },
        {
         "0": "Uusiteknologia.fi",
         "1": "Tekoäly tulee sulautettuihin - ohjelmointi ja sovellukset"
        },
        {
         "0": "ETN",
         "1": "Koneoppiminen dominoi tekoälymarkkinaa"
        },
        {
         "0": "Teknavi",
         "1": "Samsung vahvisti: Android 15 -pohjaisen One UI 7:n päivitykset alkavat 7. huhtikuuta - tällaisia tekoäly- ja muita uudistuksia uusi ohjelmisto sisältää"
        },
        {
         "0": "Mobiili.fi",
         "1": "Samsung vahvisti: Android 15 -pohjaisen One UI 7:n päivitykset alkavat 7. huhtikuuta - tällaisia tekoäly- ja muita uudistuksia uusi ohjelmisto sisältää"
        },
        {
         "0": "io-tech",
         "1": "Asus julkisti minitietokoneiden valikoimaansa uuden NUC 15 Pro+:n ja tekoälytehtäviin suunnatun Ascent GX10 AI:n"
        },
        {
         "0": "Uusiteknologia.fi",
         "1": "Tekoäly tulee sulautettuihin - ohjelmointi ja sovellukset"
        },
        {
         "0": "Uusiteknologia.fi",
         "1": "Tekoäly tulee sulautettuihin - ohjelmointi ja sovellukset"
        },
        {
         "0": "Uusiteknologia.fi",
         "1": "Tekoäly tulee sulautettuihin - ohjelmointi ja sovellukset"
        },
        {
         "0": "ETN",
         "1": "Koneoppiminen dominoi tekoälymarkkinaa"
        },
        {
         "0": "Aamuset",
         "1": "Koneoppiminen raivaa tietä tulevaisuuden joustaville biojalostamoille"
        },
        {
         "0": "Uudenkaupungin Sanomat",
         "1": "\"\"\"Tätä työtä ei tekoäly voi korvata\"\" - Satulasepän työ vaatii kädentaitoja ja voimaa\""
        },
        {
         "0": "Teknavi",
         "1": "Meta AI tulee nyt osaksi Messengeriä, WhatsAppia ja Instagramia Euroopassakin - Metan haastaja ChatGPT:lle saataville tutuissa sovelluksissa"
        },
        {
         "0": "Kauppalehti",
         "1": "Älyrobotti kasaa pian Mersuja - Tekoäly tulee autotehtaisiin"
        },
        {
         "0": "Kauppalehti",
         "1": "\"Suomalainen tekoäly-yhtiö sai ison voiton Yhdysvalloissa - Uskomaton käänne tulee \"\"ennemmin kuin uskotaan\"\""
        },
        {
         "0": "Uusiteknologia.fi",
         "1": "Tekoäly tulee sulautettuihin - ohjelmointi ja sovellukset"
        },
        {
         "0": "Mobiili.fi",
         "1": "Meta AI tulee nyt osaksi Messengeriä, WhatsAppia ja Instagramia Euroopassakin - Metan haastaja ChatGPT:lle saataville tutuissa sovelluksissa"
        },
        {
         "0": "HS.fi",
         "1": "\"Ruokakaupan eteisessä mainostetaan maksullista \"\"juttukaveria\"\" - Soitimme sille"
        },
        {
         "0": "io-tech",
         "1": "Asus julkisti minitietokoneiden valikoimaansa uuden NUC 15 Pro+:n ja tekoälytehtäviin suunnatun Ascent GX10 AI:n"
        },
        {
         "0": "ETN",
         "1": "Asus tuo AI-supertietokoneen työpöydälle"
        },
        {
         "0": "Uusiteknologia.fi",
         "1": "Tekoäly tulee sulautettuihin - ohjelmointi ja sovellukset"
        },
        {
         "0": "ETN",
         "1": "Koneoppiminen dominoi tekoälymarkkinaa"
        },
        {
         "0": "Teknavi",
         "1": "Samsung vahvisti: Android 15 -pohjaisen One UI 7:n päivitykset alkavat 7. huhtikuuta - tällaisia tekoäly- ja muita uudistuksia uusi ohjelmisto sisältää"
        },
        {
         "0": "Mobiili.fi",
         "1": "Samsung vahvisti: Android 15 -pohjaisen One UI 7:n päivitykset alkavat 7. huhtikuuta - tällaisia tekoäly- ja muita uudistuksia uusi ohjelmisto sisältää"
        },
        {
         "0": "io-tech",
         "1": "Asus julkisti minitietokoneiden valikoimaansa uuden NUC 15 Pro+:n ja tekoälytehtäviin suunnatun Ascent GX10 AI:n"
        },
        {
         "0": "Tekniikan Maailma",
         "1": "Finnair säätää lippujen hintoja tekoälyn avulla - Näin tekoäly on jo hiipinyt elämäämme"
        },
        {
         "0": "Uusiteknologia.fi",
         "1": "Nykyelektroniikan suunnittelukoulu: Tekoäly tulee sulautettuihin - ohjelmointi ja sovellukset"
        },
        {
         "0": "Uusiteknologia.fi",
         "1": "Nykyelektroniikan suunnittelukoulu: Tekoäly tulee sulautettuihin - ohjelmointi ja sovellukset"
        },
        {
         "0": "Tekniikan Maailma",
         "1": "Finnair säätää lippujen hintoja tekoälyn avulla - Näin tekoäly on jo hiipinyt elämäämme"
        },
        {
         "0": "Uusiteknologia.fi",
         "1": "Nykyelektroniikan suunnittelukoulu: Tekoäly tulee sulautettuihin - ohjelmointi ja sovellukset"
        },
        {
         "0": "ETN",
         "1": "Koneoppiminen dominoi tekoälymarkkinaa"
        },
        {
         "0": "Aamuset",
         "1": "Koneoppiminen raivaa tietä tulevaisuuden joustaville biojalostamoille"
        },
        {
         "0": "Teknavi",
         "1": "Teknavi tutustui OnePlus -tuotekehitykseen -terveysteknologia ja tekoäly ovat pääkohdat"
        },
        {
         "0": "Tekniikan Maailma",
         "1": "Finnair säätää lippujen hintoja tekoälyn avulla - Näin tekoäly on jo hiipinyt elämäämme"
        },
        {
         "0": "Demokraatti.fi",
         "1": "Tekoäly on teologinen kysymys - kone ei tunne vastuuta, mutta ihmisen pitää tuntea se, arkkipiispa Tapio Luoma sanoo"
        },
        {
         "0": "HS.fi",
         "1": "Jos tekoäly ei voita shakissa, se keksii uudet säännöt - myös muissakin asioissa?"
        },
        {
         "0": "Iltalehti",
         "1": "Tekoäly luotiin yhtä tehtävää varten - Kieltäytyi tekemästä"
        },
        {
         "0": "Uusiteknologia.fi",
         "1": "Nykyelektroniikan suunnittelukoulu: Tekoäly tulee sulautettuihin - ohjelmointi ja sovellukset"
        },
        {
         "0": "ETN",
         "1": "Koneoppiminen dominoi tekoälymarkkinaa"
        },
        {
         "0": "Teknavi",
         "1": "Samsung vahvisti: Android 15 -pohjaisen One UI 7:n päivitykset alkavat 7. huhtikuuta - tällaisia tekoäly- ja muita uudistuksia uusi ohjelmisto sisältää"
        },
        {
         "0": "Mobiili.fi",
         "1": "Samsung vahvisti: Android 15 -pohjaisen One UI 7:n päivitykset alkavat 7. huhtikuuta - tällaisia tekoäly- ja muita uudistuksia uusi ohjelmisto sisältää"
        },
        {
         "0": "io-tech",
         "1": "Asus julkisti minitietokoneiden valikoimaansa uuden NUC 15 Pro+:n ja tekoälytehtäviin suunnatun Ascent GX10 AI:n"
        }
       ],
       "schema": [
        {
         "key": "0",
         "name": "media",
         "type": "string"
        },
        {
         "key": "1",
         "name": "headline",
         "type": "string"
        }
       ],
       "truncated": false
      },
      "wranglerEntryContext": {
       "candidateVariableNames": [
        "df"
       ],
       "dataframeType": "pyspark"
      }
     },
     "type": "Synapse.DataFrame"
    },
    "73c24d23-2696-4de0-91e6-6c4a243d8644": {
     "persist_state": {
      "view": {
       "chartOptions": {
        "aggregationType": "count",
        "binsNumber": 10,
        "categoryFieldKeys": [
         "0"
        ],
        "chartType": "bar",
        "evaluatesOverAllRecords": false,
        "isStacked": false,
        "seriesFieldKeys": [
         "0"
        ],
        "wordFrequency": "-1"
       },
       "tableOptions": {},
       "type": "details",
       "viewOptionsGroup": [
        {
         "tabItems": [
          {
           "key": "0",
           "name": "Table",
           "options": {},
           "type": "table"
          }
         ]
        }
       ]
      }
     },
     "sync_state": {
      "isSummary": false,
      "language": "scala",
      "table": {
       "rows": [
        {
         "0": "Uudenkaupungin Sanomat",
         "1": "Tätä työtä ei tekoäly voi korvata - Satulasepän työ vaatii kädentaitoja ja voimaa"
        },
        {
         "0": "HS.fi",
         "1": "Ruokakaupan eteisessä mainostetaan maksullista juttukaveria - Soitimme sille"
        },
        {
         "0": "Tivi",
         "1": "Suomalainen tekoäly-yhtiö sai ison voiton Yhdysvalloissa - Uskomaton käänne tulee ennemmin kuin uskotaan"
        },
        {
         "0": "io-tech",
         "1": "Asus julkisti minitietokoneiden valikoimaansa uuden NUC 15 Pro+:n ja tekoälytehtäviin suunnatun Ascent GX10 AI:n"
        },
        {
         "0": "ETN",
         "1": "Asus tuo AI-supertietokoneen työpöydälle"
        },
        {
         "0": "Tekniikan Maailma",
         "1": "Finnair säätää lippujen hintoja tekoälyn avulla - Näin tekoäly on jo hiipinyt elämäämme"
        },
        {
         "0": "HS.fi",
         "1": "Jos tekoäly ei voita shakissa, se keksii uudet säännöt - myös muissakin asioissa?"
        },
        {
         "0": "ETN",
         "1": "Koneoppiminen dominoi tekoälymarkkinaa"
        },
        {
         "0": "Aamuset",
         "1": "Koneoppiminen raivaa tietä tulevaisuuden joustaville biojalostamoille"
        },
        {
         "0": "Teknavi",
         "1": "Meta AI tulee nyt osaksi Messengeriä, WhatsAppia ja Instagramia Euroopassakin - Metan haastaja ChatGPT:lle saataville tutuissa sovelluksissa"
        },
        {
         "0": "Uusiteknologia.fi",
         "1": "Nykyelektroniikan suunnittelukoulu: Tekoäly tulee sulautettuihin - ohjelmointi ja sovellukset"
        },
        {
         "0": "Tivi",
         "1": "Pian Mersut kasaa älyrobotti - Tekoäly tulee autotehtaisiin"
        },
        {
         "0": "Teknavi",
         "1": "Samsung vahvisti: Android 15 -pohjaisen One UI 7:n päivitykset alkavat 7. huhtikuuta - tällaisia tekoäly- ja muita uudistuksia uusi ohjelmisto sisältää"
        },
        {
         "0": "Yle",
         "1": "Storytelin hittikirjan suomennos on täynnä kummallisuuksia - lukijat huomasivat, että tekoäly on tehnyt käännöksen"
        },
        {
         "0": "Teknavi",
         "1": "Teknavi tutustui OnePlus -tuotekehitykseen -terveysteknologia ja tekoäly ovat pääkohdat"
        },
        {
         "0": "Iltalehti",
         "1": "Tekoäly luotiin yhtä tehtävää varten - Kieltäytyi tekemästä"
        },
        {
         "0": "Demokraatti.fi",
         "1": "Tekoäly on teologinen kysymys - kone ei tunne vastuuta, mutta ihmisen pitää tuntea se, arkkipiispa Tapio Luoma sanoo"
        },
        {
         "0": "Uusiteknologia.fi",
         "1": "Tekoäly tulee sulautettuihin - ohjelmointi ja sovellukset"
        },
        {
         "0": "Kauppalehti",
         "1": "Älyrobotti kasaa pian Mersuja - Tekoäly tulee autotehtaisiin"
        }
       ],
       "schema": [
        {
         "key": "0",
         "name": "media",
         "type": "string"
        },
        {
         "key": "1",
         "name": "headline",
         "type": "string"
        }
       ],
       "truncated": false
      },
      "wranglerEntryContext": {
       "candidateVariableNames": [
        "df_cleaned"
       ],
       "dataframeType": "pyspark"
      }
     },
     "type": "Synapse.DataFrame"
    }
   },
   "version": "0.1"
  }
 },
 "nbformat": 4,
 "nbformat_minor": 5
}
